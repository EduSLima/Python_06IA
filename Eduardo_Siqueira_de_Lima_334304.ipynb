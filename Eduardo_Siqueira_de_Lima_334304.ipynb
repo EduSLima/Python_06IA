{
 "cells": [
  {
   "cell_type": "markdown",
   "metadata": {},
   "source": [
    "# Eduardo Siqueira de Lima - RM334304 \n",
    "## Exercícios"
   ]
  },
  {
   "cell_type": "markdown",
   "metadata": {},
   "source": [
    "## 1) Inicie uma variável com o valor “josé da silva martins” e converta para o formato “José Da Silva Martins”, com uma única operação. Utilize string e/ou capwords.\n"
   ]
  },
  {
   "cell_type": "code",
   "execution_count": 109,
   "metadata": {},
   "outputs": [
    {
     "data": {
      "text/plain": [
       "'José Da Silva Martins'"
      ]
     },
     "execution_count": 109,
     "metadata": {},
     "output_type": "execute_result"
    }
   ],
   "source": [
    "# resposta 1\n",
    "from string import capwords\n",
    "\n",
    "capwords('josé da silva martins')\n",
    "\n"
   ]
  },
  {
   "cell_type": "markdown",
   "metadata": {},
   "source": [
    "## 2) Crie uma função que verifique se um determinado número é ímpar, sendo ímpar deverá retornar verdadeiro e falso o contrário."
   ]
  },
  {
   "cell_type": "code",
   "execution_count": 14,
   "metadata": {},
   "outputs": [
    {
     "data": {
      "text/plain": [
       "False"
      ]
     },
     "execution_count": 14,
     "metadata": {},
     "output_type": "execute_result"
    }
   ],
   "source": [
    "# resposta 2\n",
    "\n",
    "def valida_impar(x) :\n",
    "    if (x % 2 == 1):\n",
    "        return True\n",
    "    else:\n",
    "        return False\n",
    "\n",
    "valida_impar(4)"
   ]
  },
  {
   "cell_type": "markdown",
   "metadata": {},
   "source": [
    "## 3) Dado uma lista l = [1.2232, 2.322, 43.23131, 6.34324, 78.3243] transforme seus valores para que ao final tenhamos números arrendados na segunda casa decimal. Utilize a função built-in round(numero, casas_decimais)\n"
   ]
  },
  {
   "cell_type": "code",
   "execution_count": 29,
   "metadata": {},
   "outputs": [
    {
     "name": "stdout",
     "output_type": "stream",
     "text": [
      "[  1.22   2.32  43.23   6.34  78.32]\n",
      "[1.22, 2.32, 43.23, 6.34, 78.32]\n"
     ]
    }
   ],
   "source": [
    "# resposta 3\n",
    "import numpy as np\n",
    "\n",
    "Lista =[1.2232, 2.322, 43.23131, 6.34324, 78.3243]\n",
    "\n",
    "L2 = np.around(Lista,2)\n",
    "L3 = [round(x,2) for x in Lista] \n",
    "\n",
    "\n",
    "print(L2)\n",
    "print(L3)\n"
   ]
  },
  {
   "cell_type": "markdown",
   "metadata": {},
   "source": [
    "## 4) Crie uma função que retorne na forma de um dicionário as seguintes informações do texto abaixo: número de palavras (e palavras), número de números (e números) e número de frases (e frases). Utilize a função built-in isdigit() do pacote string para verificar se determinado caractere é número e split(separador) para criar uma lista a partir do caracatere ou token de separação."
   ]
  },
  {
   "cell_type": "raw",
   "metadata": {},
   "source": [
    "Brasil, oficialmente República Federativa do Brasil é o maior país da América do Sul e da região da América Latina, sendo o quinto maior do mundo em área territorial (equivalente a 47 porcento do território sul-americano) e sexto em população (com mais de 200 milhões de habitantes). É o único país na América onde se fala majoritariamente a língua portuguesa e o maior país lusófono do planeta, além de ser uma das nações mais multiculturais e etnicamente diversas, em decorrência da forte imigração oriunda de variados locais do mundo."
   ]
  },
  {
   "cell_type": "code",
   "execution_count": 105,
   "metadata": {},
   "outputs": [
    {
     "data": {
      "text/plain": [
       "{'Qtde Numeros': 2, 'Qtde Palavras': 87, 'Qtde Frases': 2}"
      ]
     },
     "execution_count": 105,
     "metadata": {},
     "output_type": "execute_result"
    }
   ],
   "source": [
    "# resposta 4    \n",
    "def fn_retorna_texto(Texto):\n",
    "\n",
    "    ListaPalavras = Texto.split()\n",
    "    Frases = Texto.split('.')\n",
    "        \n",
    "    n_Num = 0\n",
    "    lst_numeros = []\n",
    "    lst_palavras = []\n",
    "    n_Pal = 0\n",
    "    \n",
    "    for i,palavra in enumerate(ListaPalavras) :\n",
    "        if palavra.isdigit():\n",
    "            n_Num += 1\n",
    "            lst_numeros.append(palavra)\n",
    "        else:\n",
    "            n_Pal += 1\n",
    "            lst_palavras.append(palavra)\n",
    "\n",
    "    \n",
    "    dicionario = {'Qtde Numeros':n_Num , \n",
    "                  'Qtde Palavras':n_Pal, \n",
    "                  'Qtde Frases': len(Frases) -1\n",
    "                 }\n",
    "\n",
    "\n",
    "    return dicionario\n",
    "\n",
    "\n",
    "fn_retorna_texto('Brasil, oficialmente República Federativa do Brasil é o maior país da América do Sul e da região da América Latina, sendo o quinto maior do mundo em área territorial (equivalente a 47 porcento do território sul-americano) e sexto em população (com mais de 200 milhões de habitantes). É o único país na América onde se fala majoritariamente a língua portuguesa e o maior país lusófono do planeta, além de ser uma das nações mais multiculturais e etnicamente diversas, em decorrência da forte imigração oriunda de variados locais do mundo.')"
   ]
  },
  {
   "cell_type": "markdown",
   "metadata": {},
   "source": [
    "## 5) Implemente um algoritmo que calcule o fatorial de número de modo não-recursivo"
   ]
  },
  {
   "cell_type": "code",
   "execution_count": 1,
   "metadata": {},
   "outputs": [
    {
     "name": "stdout",
     "output_type": "stream",
     "text": [
      "O valor de 6 é = 720\n"
     ]
    }
   ],
   "source": [
    "# resposta 5\n",
    "\n",
    "def fatorial(n):    \n",
    "    fat = 1\n",
    "    i = 2\n",
    "    while i <= n:\n",
    "        fat = fat*i\n",
    "        i = i + 1\n",
    "\n",
    "    print(\"O valor de %d é =\" %n, fat)\n",
    "\n",
    "fatorial(6)\n"
   ]
  },
  {
   "cell_type": "markdown",
   "metadata": {},
   "source": [
    "## 6) Implemente duas funções:\n",
    "> Uma que converta graus Celsius para Fahrenheit\n",
    "\n",
    "> Outra que converta graus Fahrenheit para Celsius\n",
    "\n",
    "> 𝐹=  9/5×𝐶+32"
   ]
  },
  {
   "cell_type": "code",
   "execution_count": 5,
   "metadata": {},
   "outputs": [
    {
     "name": "stdout",
     "output_type": "stream",
     "text": [
      "32F\n",
      "0C\n"
     ]
    }
   ],
   "source": [
    "# resposta 6\n",
    "\n",
    "def fn_converte_F(t):    \n",
    "    t = round(t * (9/5) + 32)\n",
    "    print(str(t) + 'F')\n",
    "\n",
    "def fn_converte_C(t):    \n",
    "    t = round((t - 32) * (5/9))\n",
    "    print(str(t) + 'C')\n",
    "    \n",
    "    \n",
    "fn_converte_F(0)\n",
    "fn_converte_C(32)"
   ]
  },
  {
   "cell_type": "markdown",
   "metadata": {},
   "source": [
    "## 7) Implemente uma função que receba uma lista com 100 números, de 0 a 100, e retorne outra lista contendo apenas os números primos. \n",
    "    > Use numpy.arange para gerar a lista"
   ]
  },
  {
   "cell_type": "code",
   "execution_count": 20,
   "metadata": {},
   "outputs": [
    {
     "name": "stdout",
     "output_type": "stream",
     "text": [
      "[0, 1, 2, 3, 5, 7, 11, 13, 17, 19, 23, 29, 31, 37, 41, 43, 47, 53, 59, 61, 67, 71, 73, 79, 83, 89, 97]\n"
     ]
    }
   ],
   "source": [
    "# resposta 7\n",
    "import numpy as np\n",
    "\n",
    "def fn_primos(numeros):\n",
    "    primos=[]\n",
    "    for x in (numeros):\n",
    "        for i in range(2, x):\n",
    "            if x % i == 0:\n",
    "                break\n",
    "        else:\n",
    "            primos.append(x)\n",
    "            \n",
    "    return(primos)\n",
    "    \n",
    "\n",
    "print(fn_primos(np.arange(0,101)))"
   ]
  }
 ],
 "metadata": {
  "kernelspec": {
   "display_name": "Python 3",
   "language": "python",
   "name": "python3"
  },
  "language_info": {
   "codemirror_mode": {
    "name": "ipython",
    "version": 3
   },
   "file_extension": ".py",
   "mimetype": "text/x-python",
   "name": "python",
   "nbconvert_exporter": "python",
   "pygments_lexer": "ipython3",
   "version": "3.7.3"
  }
 },
 "nbformat": 4,
 "nbformat_minor": 4
}
