{
 "cells": [
  {
   "cell_type": "markdown",
   "metadata": {},
   "source": [
    "# Exercícios"
   ]
  },
  {
   "cell_type": "markdown",
   "metadata": {},
   "source": [
    "## 1) Crie uma classe que irá modelar características geométricas de um círculo. Deverá implementar os métodos:\n",
    "        -> Área \n",
    "        -> Perímetro\n",
    "## Utilize atributos de classe e de instância apropriados. Crie um inicializador e métodos.\n",
    "$area = \\pi*r^2$\n",
    "\n",
    "$perimetro = 2*\\pi*r$"
   ]
  },
  {
   "cell_type": "code",
   "execution_count": 28,
   "metadata": {},
   "outputs": [
    {
     "name": "stdout",
     "output_type": "stream",
     "text": [
      "dado o raio  4  a area é 50.26548245743669\n",
      "dado o raio  4  a perimetro é 25.132741228718345\n"
     ]
    }
   ],
   "source": [
    "# resposta 1\n",
    "import math\n",
    "\n",
    "class Circulo:\n",
    "    pi = math.pi\n",
    "    \n",
    "    def __init__(self, raio):\n",
    "        self.raio = raio\n",
    "        \n",
    "    def area(self,raio):        \n",
    "        self.raio = raio\n",
    "        print('dado o raio ',raio,' a area é', Circulo.pi * (raio**2))\n",
    "\n",
    "    def perimetro(self, raio):\n",
    "        self.raio = raio\n",
    "        print('dado o raio ',raio,' a perimetro é', 2 * Circulo.pi * raio)\n",
    "      \n",
    "objeto.area(4)\n",
    "objeto.perimetro(4)\n"
   ]
  },
  {
   "cell_type": "markdown",
   "metadata": {},
   "source": [
    "## 2) Crie uma classe chamada matemática que conterá duas classes: trigonométrica e algébrica. Defina dentro da classe trigonométrica as seguintes funções:\n",
    "    -> seno\n",
    "    -> cosseno\n",
    "    -> tangente\n",
    "## Defina dentro da classe algébrica as seguintes funções: \n",
    "    -> soma\n",
    "    -> subtração\n",
    "    -> multiplicação\n",
    "    -> divisão\n",
    "## Cada função deverá receber array e retornar array"
   ]
  },
  {
   "cell_type": "code",
   "execution_count": 143,
   "metadata": {},
   "outputs": [
    {
     "name": "stdout",
     "output_type": "stream",
     "text": [
      "[ 0.84147098  0.90929743  0.14112001 -0.7568025  -0.95892427]\n",
      "[ 0.54030231 -0.41614684 -0.9899925  -0.65364362  0.28366219]\n",
      "[ 1.55740772 -2.18503986 -0.14254654  1.15782128 -3.38051501]\n",
      "[ 7  9 11 13 15]\n",
      "[-5 -5 -5 -5 -5]\n",
      "[ 6 14 24 36 50]\n",
      "[ 0.16666667  0.28571429  0.375       0.44444444  0.5       ]\n"
     ]
    }
   ],
   "source": [
    "# resposta 2\n",
    "import numpy as np\n",
    "\n",
    "class matematica:\n",
    "    class trigonometria:\n",
    "        def seno(self,val):\n",
    "            print (np.sin(val))\n",
    "    \n",
    "        def coseno(self,val):\n",
    "            print (np.cos(val))\n",
    "        \n",
    "        def tangente(self,val):\n",
    "            print(np.tan(val))\n",
    "\n",
    "    class algebrica:\n",
    "        def soma(self, A1, A2):\n",
    "            print(A1 + A2)\n",
    "        \n",
    "        def subtracao(self, A1, A2):\n",
    "            print(A1 - A2)\n",
    "            \n",
    "        def multiplicacao(self,A1, A2):\n",
    "            print(A1 * A2)\n",
    "\n",
    "        def divisao(self, A1, A2):\n",
    "            print(A1 / A2)\n",
    "            \n",
    "        \n",
    "A1 = np.array([1,2,3,4,5])\n",
    "A2 = np.array([6,7,8,9,10])\n",
    "ob1 = matematica.trigonometria()        \n",
    "ob1.seno(A1)\n",
    "ob1.coseno(A1)\n",
    "ob1.tangente(A1)\n",
    "\n",
    "\n",
    "ob2 = matematica.algebrica()\n",
    "ob2.soma(A1,A2)\n",
    "ob2.subtracao(A1,A2)\n",
    "ob2.multiplicacao(A1,A2)\n",
    "ob2.divisao(A1,A2)"
   ]
  },
  {
   "cell_type": "markdown",
   "metadata": {},
   "source": [
    "## 3) Dados 2 arrays, A e B, remova de A todo elemento pertencente a B"
   ]
  },
  {
   "cell_type": "code",
   "execution_count": 141,
   "metadata": {},
   "outputs": [
    {
     "name": "stdout",
     "output_type": "stream",
     "text": [
      "[3 4 5 6 7]\n"
     ]
    }
   ],
   "source": [
    "# resposta 3\n",
    "A = np.array([1,2,3,4,5,6,7,8])\n",
    "B = np.array([1,2,8])\n",
    "\n",
    "#vai cavalo\n",
    "print (A[B[np.searchsorted(B,A)] !=  A])"
   ]
  },
  {
   "cell_type": "markdown",
   "metadata": {},
   "source": [
    "## 4) Crie uma função que recebe um array, um inteiro n e um inteiro m e que retorne outro array contendo elementos que estão entre os valores n e m do array recebido pela função. "
   ]
  },
  {
   "cell_type": "code",
   "execution_count": 148,
   "metadata": {},
   "outputs": [
    {
     "name": "stdout",
     "output_type": "stream",
     "text": [
      "[2 3 4]\n"
     ]
    }
   ],
   "source": [
    "# resposta 4\n",
    "\n",
    "def BuscaDado(A, N, M):\n",
    "    B = np.arange(N,M)    \n",
    "    print(np.intersect1d(A,B))\n",
    "                              \n",
    "A = np.array([1,1,2,3,3,3,4,5,6,7,8,8])\n",
    "BuscaDado(A, 2, 5)\n",
    "\n",
    "\n"
   ]
  },
  {
   "cell_type": "markdown",
   "metadata": {},
   "source": [
    "## 5) Escreva uma função que recebe um vetor e um inteiro. Compare cada elemento desse vetor com o número inteiro. Se o elemento do vetor for maior, retorne a diferença entre eles, caso contrário, retorne a soma."
   ]
  },
  {
   "cell_type": "code",
   "execution_count": 149,
   "metadata": {},
   "outputs": [
    {
     "name": "stdout",
     "output_type": "stream",
     "text": [
      "[5 5 6 7 7 7 8 1 2 3 4 4]\n"
     ]
    }
   ],
   "source": [
    "# resposta 5\n",
    "\n",
    "def compara(Vet,Num):\n",
    "    print(np.where(Vet > Num, Vet - Num, Vet +Num))\n",
    "            \n",
    "A = np.array([1,1,2,3,3,3,4,5,6,7,8,8])\n",
    "B = 4\n",
    "\n",
    "compara(A,B)"
   ]
  },
  {
   "cell_type": "markdown",
   "metadata": {},
   "source": [
    "## 6) Dada a seguinte matriz:\n",
    "    -> [ 8,1,7\n",
    "         4,3,9\n",
    "         5,2,6]\n",
    "## escreva uma função que retorne a matriz ordenada por um dos eixos. utilize a função built-in sorted para realizar a ordenação"
   ]
  },
  {
   "cell_type": "code",
   "execution_count": 139,
   "metadata": {},
   "outputs": [
    {
     "name": "stdout",
     "output_type": "stream",
     "text": [
      "[[1 7 8]\n",
      " [3 4 9]\n",
      " [2 5 6]]\n"
     ]
    }
   ],
   "source": [
    "# resposta 6\n",
    "\n",
    "def ordena_matriz(Matriz):\n",
    "    print(np.apply_along_axis(sorted,1,arr = matriz))\n",
    "    \n",
    "matriz = np.array([[8,1,7],[4,3,9],[5,2,6]])    \n",
    "ordena_matriz(matriz)"
   ]
  },
  {
   "cell_type": "code",
   "execution_count": 127,
   "metadata": {},
   "outputs": [
    {
     "name": "stdout",
     "output_type": "stream",
     "text": [
      "Help on built-in function sorted in module builtins:\n",
      "\n",
      "sorted(iterable, /, *, key=None, reverse=False)\n",
      "    Return a new list containing all items from the iterable in ascending order.\n",
      "    \n",
      "    A custom key function can be supplied to customize the sort order, and the\n",
      "    reverse flag can be set to request the result in descending order.\n",
      "\n"
     ]
    }
   ],
   "source": [
    "help (sorted)"
   ]
  }
 ],
 "metadata": {
  "kernelspec": {
   "display_name": "Python 3",
   "language": "python",
   "name": "python3"
  },
  "language_info": {
   "codemirror_mode": {
    "name": "ipython",
    "version": 3
   },
   "file_extension": ".py",
   "mimetype": "text/x-python",
   "name": "python",
   "nbconvert_exporter": "python",
   "pygments_lexer": "ipython3",
   "version": "3.7.3"
  }
 },
 "nbformat": 4,
 "nbformat_minor": 4
}
